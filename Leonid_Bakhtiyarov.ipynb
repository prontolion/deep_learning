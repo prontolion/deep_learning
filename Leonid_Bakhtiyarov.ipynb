{
 "cells": [
  {
   "cell_type": "markdown",
   "metadata": {},
   "source": [
    "##### ВЫГРУЗКА БИБЛИОТЕК"
   ]
  },
  {
   "cell_type": "code",
   "execution_count": 1,
   "metadata": {},
   "outputs": [],
   "source": [
    "import numpy as np\n",
    "import pandas as pd\n",
    "\n",
    "from sklearn.model_selection import train_test_split\n",
    "\n",
    "from tensorflow.keras.models import Sequential\n",
    "from tensorflow.keras.layers import Conv2D, MaxPooling2D, Flatten, Dense, Dropout\n",
    "from tensorflow.keras.utils import to_categorical\n",
    "from tensorflow.keras.preprocessing.image import ImageDataGenerator\n",
    "# from tensorflow.keras.callbacks import EarlyStopping"
   ]
  },
  {
   "cell_type": "markdown",
   "metadata": {},
   "source": [
    "##### ПЕРВИЧНАЯ ВЫГРУЗКА И ОБРАБОТКА ДАННЫХ"
   ]
  },
  {
   "cell_type": "code",
   "execution_count": 2,
   "metadata": {},
   "outputs": [],
   "source": [
    "images = np.load('/kaggle/input/mipt-dl-captcha/data/images.npy')\n",
    "images = images/255\n",
    "\n",
    "labels = np.load('/kaggle/input/mipt-dl-captcha/data/labels.npy')\n",
    "labels = to_categorical(labels, num_classes=26)"
   ]
  },
  {
   "cell_type": "code",
   "execution_count": 3,
   "metadata": {},
   "outputs": [],
   "source": [
    "# Разделение данных на обучающую, валидационную и тестовую выборки\n",
    "X_train, X_test, y_train, y_test = train_test_split(images, labels, test_size=0.2, random_state=42)\n",
    "X_train, X_val, y_train, y_val = train_test_split(X_train, y_train, test_size=0.2, random_state=42)"
   ]
  },
  {
   "cell_type": "markdown",
   "metadata": {},
   "source": [
    "##### РАБОТА С МОДЕЛЬЮ"
   ]
  },
  {
   "cell_type": "code",
   "execution_count": 4,
   "metadata": {},
   "outputs": [
    {
     "name": "stderr",
     "output_type": "stream",
     "text": [
      "c:\\Users\\pront\\AppData\\Local\\Programs\\Python\\Python312\\Lib\\site-packages\\keras\\src\\layers\\convolutional\\base_conv.py:107: UserWarning: Do not pass an `input_shape`/`input_dim` argument to a layer. When using Sequential models, prefer using an `Input(shape)` object as the first layer in the model instead.\n",
      "  super().__init__(activity_regularizer=activity_regularizer, **kwargs)\n"
     ]
    }
   ],
   "source": [
    "# Создание модели CNN\n",
    "model = Sequential()\n",
    "model.add(Conv2D(32, (3, 3), activation='relu', input_shape=(48, 48, 3)))\n",
    "model.add(MaxPooling2D((2, 2)))\n",
    "model.add(Conv2D(64, (3, 3), activation='relu'))\n",
    "model.add(MaxPooling2D((2, 2)))\n",
    "model.add(Conv2D(128, (3, 3), activation='relu'))\n",
    "model.add(MaxPooling2D((2, 2)))\n",
    "model.add(Flatten())\n",
    "model.add(Dense(128, activation='relu'))\n",
    "model.add(Dropout(0.5))\n",
    "model.add(Dense(26, activation='softmax'))"
   ]
  },
  {
   "cell_type": "code",
   "execution_count": 5,
   "metadata": {},
   "outputs": [],
   "source": [
    "# Компиляция модели\n",
    "model.compile(optimizer='adam', loss='categorical_crossentropy', metrics=['accuracy'])\n",
    "\n",
    "# Аугментация данных\n",
    "datagen = ImageDataGenerator(\n",
    "                            rotation_range=10,\n",
    "                            width_shift_range=0.1,\n",
    "                            height_shift_range=0.1,\n",
    "                            zoom_range=0.1,\n",
    "                            )\n",
    "datagen.fit(X_train)\n"
   ]
  },
  {
   "cell_type": "code",
   "execution_count": 6,
   "metadata": {},
   "outputs": [
    {
     "name": "stdout",
     "output_type": "stream",
     "text": [
      "Epoch 1/40\n",
      "\u001b[1m    4/12800\u001b[0m \u001b[37m━━━━━━━━━━━━━━━━━━━━\u001b[0m \u001b[1m3:42\u001b[0m 17ms/step - accuracy: 0.0174 - loss: 3.2656        "
     ]
    },
    {
     "name": "stderr",
     "output_type": "stream",
     "text": [
      "c:\\Users\\pront\\AppData\\Local\\Programs\\Python\\Python312\\Lib\\site-packages\\keras\\src\\trainers\\data_adapters\\py_dataset_adapter.py:121: UserWarning: Your `PyDataset` class should call `super().__init__(**kwargs)` in its constructor. `**kwargs` can include `workers`, `use_multiprocessing`, `max_queue_size`. Do not pass these arguments to `fit()`, as they will be ignored.\n",
      "  self._warn_if_super_not_called()\n"
     ]
    },
    {
     "name": "stdout",
     "output_type": "stream",
     "text": [
      "\u001b[1m  231/12800\u001b[0m \u001b[37m━━━━━━━━━━━━━━━━━━━━\u001b[0m \u001b[1m3:16\u001b[0m 16ms/step - accuracy: 0.0490 - loss: 3.2506"
     ]
    },
    {
     "name": "stderr",
     "output_type": "stream",
     "text": [
      "c:\\Users\\pront\\AppData\\Local\\Programs\\Python\\Python312\\Lib\\contextlib.py:158: UserWarning: Your input ran out of data; interrupting training. Make sure that your dataset or generator can generate at least `steps_per_epoch * epochs` batches. You may need to use the `.repeat()` function when building your dataset.\n",
      "  self.gen.throw(value)\n"
     ]
    },
    {
     "name": "stdout",
     "output_type": "stream",
     "text": [
      "\u001b[1m12800/12800\u001b[0m \u001b[32m━━━━━━━━━━━━━━━━━━━━\u001b[0m\u001b[37m\u001b[0m \u001b[1m5s\u001b[0m 307us/step - accuracy: 0.0485 - loss: 3.2373 - val_accuracy: 0.0525 - val_loss: 3.1808\n",
      "Epoch 2/40\n",
      "\u001b[1m12800/12800\u001b[0m \u001b[32m━━━━━━━━━━━━━━━━━━━━\u001b[0m\u001b[37m\u001b[0m \u001b[1m4s\u001b[0m 298us/step - accuracy: 0.0912 - loss: 3.1112 - val_accuracy: 0.2188 - val_loss: 2.8208\n",
      "Epoch 3/40\n",
      "\u001b[1m12800/12800\u001b[0m \u001b[32m━━━━━━━━━━━━━━━━━━━━\u001b[0m\u001b[37m\u001b[0m \u001b[1m4s\u001b[0m 300us/step - accuracy: 0.2093 - loss: 2.7000 - val_accuracy: 0.4319 - val_loss: 2.0698\n",
      "Epoch 4/40\n",
      "\u001b[1m12800/12800\u001b[0m \u001b[32m━━━━━━━━━━━━━━━━━━━━\u001b[0m\u001b[37m\u001b[0m \u001b[1m4s\u001b[0m 297us/step - accuracy: 0.3077 - loss: 2.3074 - val_accuracy: 0.5328 - val_loss: 1.6072\n",
      "Epoch 5/40\n",
      "\u001b[1m12800/12800\u001b[0m \u001b[32m━━━━━━━━━━━━━━━━━━━━\u001b[0m\u001b[37m\u001b[0m \u001b[1m4s\u001b[0m 296us/step - accuracy: 0.3779 - loss: 2.0671 - val_accuracy: 0.5878 - val_loss: 1.4742\n",
      "Epoch 6/40\n",
      "\u001b[1m12800/12800\u001b[0m \u001b[32m━━━━━━━━━━━━━━━━━━━━\u001b[0m\u001b[37m\u001b[0m \u001b[1m4s\u001b[0m 296us/step - accuracy: 0.4252 - loss: 1.8984 - val_accuracy: 0.6484 - val_loss: 1.2642\n",
      "Epoch 7/40\n",
      "\u001b[1m12800/12800\u001b[0m \u001b[32m━━━━━━━━━━━━━━━━━━━━\u001b[0m\u001b[37m\u001b[0m \u001b[1m4s\u001b[0m 294us/step - accuracy: 0.4525 - loss: 1.7877 - val_accuracy: 0.6734 - val_loss: 1.1490\n",
      "Epoch 8/40\n",
      "\u001b[1m12800/12800\u001b[0m \u001b[32m━━━━━━━━━━━━━━━━━━━━\u001b[0m\u001b[37m\u001b[0m \u001b[1m4s\u001b[0m 294us/step - accuracy: 0.4917 - loss: 1.6702 - val_accuracy: 0.6866 - val_loss: 1.0826\n",
      "Epoch 9/40\n",
      "\u001b[1m12800/12800\u001b[0m \u001b[32m━━━━━━━━━━━━━━━━━━━━\u001b[0m\u001b[37m\u001b[0m \u001b[1m4s\u001b[0m 295us/step - accuracy: 0.5030 - loss: 1.6040 - val_accuracy: 0.7163 - val_loss: 1.0043\n",
      "Epoch 10/40\n",
      "\u001b[1m12800/12800\u001b[0m \u001b[32m━━━━━━━━━━━━━━━━━━━━\u001b[0m\u001b[37m\u001b[0m \u001b[1m4s\u001b[0m 296us/step - accuracy: 0.5289 - loss: 1.5250 - val_accuracy: 0.7150 - val_loss: 0.9543\n",
      "Epoch 11/40\n",
      "\u001b[1m12800/12800\u001b[0m \u001b[32m━━━━━━━━━━━━━━━━━━━━\u001b[0m\u001b[37m\u001b[0m \u001b[1m4s\u001b[0m 296us/step - accuracy: 0.5396 - loss: 1.4763 - val_accuracy: 0.7534 - val_loss: 0.8869\n",
      "Epoch 12/40\n",
      "\u001b[1m12800/12800\u001b[0m \u001b[32m━━━━━━━━━━━━━━━━━━━━\u001b[0m\u001b[37m\u001b[0m \u001b[1m4s\u001b[0m 297us/step - accuracy: 0.5577 - loss: 1.4268 - val_accuracy: 0.7559 - val_loss: 0.8577\n",
      "Epoch 13/40\n",
      "\u001b[1m12800/12800\u001b[0m \u001b[32m━━━━━━━━━━━━━━━━━━━━\u001b[0m\u001b[37m\u001b[0m \u001b[1m4s\u001b[0m 299us/step - accuracy: 0.5696 - loss: 1.3587 - val_accuracy: 0.7603 - val_loss: 0.8375\n",
      "Epoch 14/40\n",
      "\u001b[1m12800/12800\u001b[0m \u001b[32m━━━━━━━━━━━━━━━━━━━━\u001b[0m\u001b[37m\u001b[0m \u001b[1m4s\u001b[0m 296us/step - accuracy: 0.5843 - loss: 1.3294 - val_accuracy: 0.7656 - val_loss: 0.7845\n",
      "Epoch 15/40\n",
      "\u001b[1m12800/12800\u001b[0m \u001b[32m━━━━━━━━━━━━━━━━━━━━\u001b[0m\u001b[37m\u001b[0m \u001b[1m4s\u001b[0m 297us/step - accuracy: 0.5960 - loss: 1.2825 - val_accuracy: 0.7850 - val_loss: 0.7350\n",
      "Epoch 16/40\n",
      "\u001b[1m12800/12800\u001b[0m \u001b[32m━━━━━━━━━━━━━━━━━━━━\u001b[0m\u001b[37m\u001b[0m \u001b[1m4s\u001b[0m 311us/step - accuracy: 0.6109 - loss: 1.2410 - val_accuracy: 0.7819 - val_loss: 0.7422\n",
      "Epoch 17/40\n",
      "\u001b[1m12800/12800\u001b[0m \u001b[32m━━━━━━━━━━━━━━━━━━━━\u001b[0m\u001b[37m\u001b[0m \u001b[1m5s\u001b[0m 344us/step - accuracy: 0.6147 - loss: 1.2223 - val_accuracy: 0.7862 - val_loss: 0.7394\n",
      "Epoch 18/40\n",
      "\u001b[1m12800/12800\u001b[0m \u001b[32m━━━━━━━━━━━━━━━━━━━━\u001b[0m\u001b[37m\u001b[0m \u001b[1m4s\u001b[0m 342us/step - accuracy: 0.6174 - loss: 1.2002 - val_accuracy: 0.7894 - val_loss: 0.7088\n",
      "Epoch 19/40\n",
      "\u001b[1m12800/12800\u001b[0m \u001b[32m━━━━━━━━━━━━━━━━━━━━\u001b[0m\u001b[37m\u001b[0m \u001b[1m4s\u001b[0m 299us/step - accuracy: 0.6284 - loss: 1.1613 - val_accuracy: 0.7925 - val_loss: 0.7008\n",
      "Epoch 20/40\n",
      "\u001b[1m12800/12800\u001b[0m \u001b[32m━━━━━━━━━━━━━━━━━━━━\u001b[0m\u001b[37m\u001b[0m \u001b[1m5s\u001b[0m 351us/step - accuracy: 0.6450 - loss: 1.1285 - val_accuracy: 0.7738 - val_loss: 0.7327\n",
      "Epoch 21/40\n",
      "\u001b[1m12800/12800\u001b[0m \u001b[32m━━━━━━━━━━━━━━━━━━━━\u001b[0m\u001b[37m\u001b[0m \u001b[1m7s\u001b[0m 534us/step - accuracy: 0.6450 - loss: 1.1114 - val_accuracy: 0.8081 - val_loss: 0.6633\n",
      "Epoch 22/40\n",
      "\u001b[1m12800/12800\u001b[0m \u001b[32m━━━━━━━━━━━━━━━━━━━━\u001b[0m\u001b[37m\u001b[0m \u001b[1m4s\u001b[0m 299us/step - accuracy: 0.6604 - loss: 1.0808 - val_accuracy: 0.8069 - val_loss: 0.6416\n",
      "Epoch 23/40\n",
      "\u001b[1m12800/12800\u001b[0m \u001b[32m━━━━━━━━━━━━━━━━━━━━\u001b[0m\u001b[37m\u001b[0m \u001b[1m4s\u001b[0m 296us/step - accuracy: 0.6625 - loss: 1.0577 - val_accuracy: 0.8116 - val_loss: 0.6427\n",
      "Epoch 24/40\n",
      "\u001b[1m12800/12800\u001b[0m \u001b[32m━━━━━━━━━━━━━━━━━━━━\u001b[0m\u001b[37m\u001b[0m \u001b[1m6s\u001b[0m 430us/step - accuracy: 0.6719 - loss: 1.0389 - val_accuracy: 0.8169 - val_loss: 0.6207\n",
      "Epoch 25/40\n",
      "\u001b[1m12800/12800\u001b[0m \u001b[32m━━━━━━━━━━━━━━━━━━━━\u001b[0m\u001b[37m\u001b[0m \u001b[1m7s\u001b[0m 544us/step - accuracy: 0.6739 - loss: 1.0309 - val_accuracy: 0.8125 - val_loss: 0.6020\n",
      "Epoch 26/40\n",
      "\u001b[1m12800/12800\u001b[0m \u001b[32m━━━━━━━━━━━━━━━━━━━━\u001b[0m\u001b[37m\u001b[0m \u001b[1m4s\u001b[0m 298us/step - accuracy: 0.6830 - loss: 0.9967 - val_accuracy: 0.8231 - val_loss: 0.6015\n",
      "Epoch 27/40\n",
      "\u001b[1m12800/12800\u001b[0m \u001b[32m━━━━━━━━━━━━━━━━━━━━\u001b[0m\u001b[37m\u001b[0m \u001b[1m4s\u001b[0m 297us/step - accuracy: 0.6868 - loss: 0.9912 - val_accuracy: 0.8206 - val_loss: 0.5898\n",
      "Epoch 28/40\n",
      "\u001b[1m12800/12800\u001b[0m \u001b[32m━━━━━━━━━━━━━━━━━━━━\u001b[0m\u001b[37m\u001b[0m \u001b[1m4s\u001b[0m 294us/step - accuracy: 0.7005 - loss: 0.9443 - val_accuracy: 0.8206 - val_loss: 0.6001\n",
      "Epoch 29/40\n",
      "\u001b[1m12800/12800\u001b[0m \u001b[32m━━━━━━━━━━━━━━━━━━━━\u001b[0m\u001b[37m\u001b[0m \u001b[1m4s\u001b[0m 296us/step - accuracy: 0.6930 - loss: 0.9509 - val_accuracy: 0.8294 - val_loss: 0.5699\n",
      "Epoch 30/40\n",
      "\u001b[1m12800/12800\u001b[0m \u001b[32m━━━━━━━━━━━━━━━━━━━━\u001b[0m\u001b[37m\u001b[0m \u001b[1m4s\u001b[0m 295us/step - accuracy: 0.7015 - loss: 0.9315 - val_accuracy: 0.8288 - val_loss: 0.5720\n",
      "Epoch 31/40\n",
      "\u001b[1m12800/12800\u001b[0m \u001b[32m━━━━━━━━━━━━━━━━━━━━\u001b[0m\u001b[37m\u001b[0m \u001b[1m4s\u001b[0m 296us/step - accuracy: 0.7004 - loss: 0.9296 - val_accuracy: 0.8275 - val_loss: 0.5625\n",
      "Epoch 32/40\n",
      "\u001b[1m12800/12800\u001b[0m \u001b[32m━━━━━━━━━━━━━━━━━━━━\u001b[0m\u001b[37m\u001b[0m \u001b[1m4s\u001b[0m 295us/step - accuracy: 0.7080 - loss: 0.9147 - val_accuracy: 0.8263 - val_loss: 0.5587\n",
      "Epoch 33/40\n",
      "\u001b[1m12800/12800\u001b[0m \u001b[32m━━━━━━━━━━━━━━━━━━━━\u001b[0m\u001b[37m\u001b[0m \u001b[1m4s\u001b[0m 297us/step - accuracy: 0.7042 - loss: 0.9001 - val_accuracy: 0.8319 - val_loss: 0.5534\n",
      "Epoch 34/40\n",
      "\u001b[1m12800/12800\u001b[0m \u001b[32m━━━━━━━━━━━━━━━━━━━━\u001b[0m\u001b[37m\u001b[0m \u001b[1m4s\u001b[0m 295us/step - accuracy: 0.7180 - loss: 0.8682 - val_accuracy: 0.8306 - val_loss: 0.5356\n",
      "Epoch 35/40\n",
      "\u001b[1m12800/12800\u001b[0m \u001b[32m━━━━━━━━━━━━━━━━━━━━\u001b[0m\u001b[37m\u001b[0m \u001b[1m4s\u001b[0m 296us/step - accuracy: 0.7253 - loss: 0.8674 - val_accuracy: 0.8225 - val_loss: 0.5806\n",
      "Epoch 36/40\n",
      "\u001b[1m12800/12800\u001b[0m \u001b[32m━━━━━━━━━━━━━━━━━━━━\u001b[0m\u001b[37m\u001b[0m \u001b[1m4s\u001b[0m 297us/step - accuracy: 0.7227 - loss: 0.8553 - val_accuracy: 0.8413 - val_loss: 0.5222\n",
      "Epoch 37/40\n",
      "\u001b[1m12800/12800\u001b[0m \u001b[32m━━━━━━━━━━━━━━━━━━━━\u001b[0m\u001b[37m\u001b[0m \u001b[1m4s\u001b[0m 299us/step - accuracy: 0.7247 - loss: 0.8591 - val_accuracy: 0.8381 - val_loss: 0.5322\n",
      "Epoch 38/40\n",
      "\u001b[1m12800/12800\u001b[0m \u001b[32m━━━━━━━━━━━━━━━━━━━━\u001b[0m\u001b[37m\u001b[0m \u001b[1m4s\u001b[0m 294us/step - accuracy: 0.7242 - loss: 0.8407 - val_accuracy: 0.8366 - val_loss: 0.5217\n",
      "Epoch 39/40\n",
      "\u001b[1m12800/12800\u001b[0m \u001b[32m━━━━━━━━━━━━━━━━━━━━\u001b[0m\u001b[37m\u001b[0m \u001b[1m4s\u001b[0m 297us/step - accuracy: 0.7320 - loss: 0.8393 - val_accuracy: 0.8419 - val_loss: 0.5146\n",
      "Epoch 40/40\n",
      "\u001b[1m12800/12800\u001b[0m \u001b[32m━━━━━━━━━━━━━━━━━━━━\u001b[0m\u001b[37m\u001b[0m \u001b[1m4s\u001b[0m 295us/step - accuracy: 0.7440 - loss: 0.7884 - val_accuracy: 0.8269 - val_loss: 0.5572\n",
      "Точность на тестовой выборке: 0.8292499780654907\n",
      "\u001b[1m1563/1563\u001b[0m \u001b[32m━━━━━━━━━━━━━━━━━━━━\u001b[0m\u001b[37m\u001b[0m \u001b[1m3s\u001b[0m 2ms/step\n"
     ]
    }
   ],
   "source": [
    "# Обучение модели с использованием аугментации данных\n",
    "batch_size = 55 # для accuracy 0.79 в kaggle - 50\n",
    "epochs = 40     # для accuracy 0.79 в kaggle - 40\n",
    "\n",
    "cnn_model = model.fit(\n",
    "                    datagen.flow(X_train, y_train, batch_size=batch_size),\n",
    "                    epochs = epochs,\n",
    "                    validation_data = (X_val, y_val),\n",
    "                    steps_per_epoch = len(X_train)\n",
    "                    )\n",
    "\n",
    "# Оценка модели\n",
    "loss, accuracy = model.evaluate(X_test, y_test, verbose=0)\n",
    "print('Точность на тестовой выборке:', accuracy)\n",
    "\n",
    "images_sub = np.load('/kaggle/input/mipt-dl-captcha/data/images_sub.npy')\n",
    "\n",
    "# Предсказание меток классов\n",
    "predictions = model.predict(images_sub)\n",
    "predicted_labels = np.argmax(predictions, axis=1)\n",
    "\n",
    "# Выгрузка результатов в папку\n",
    "submission = pd.DataFrame({'Id': range(len(predicted_labels)), 'Category': predicted_labels})\n",
    "submission.to_csv('submission_cnn_{0}.csv'.format('1'), index=False)"
   ]
  },
  {
   "cell_type": "code",
   "execution_count": 7,
   "metadata": {},
   "outputs": [],
   "source": [
    "# Повторное обучение <-- в итоге ведёт к переобучению и снижению результатов\n",
    "# cnn_model = model.fit(\n",
    "#                     datagen.flow(X_train, y_train, batch_size=batch_size),\n",
    "#                     epochs = epochs,\n",
    "#                     validation_data = (X_val, y_val),\n",
    "#                     steps_per_epoch = len(X_train)\n",
    "#                     )\n",
    "\n",
    "# # Оценка модели\n",
    "# loss, accuracy = model.evaluate(X_test, y_test, verbose=0)\n",
    "# print('Точность на тестовой выборке:', accuracy)\n",
    "\n",
    "# images_sub = np.load('images_sub.npy')\n",
    "\n",
    "# # Предсказание меток классов\n",
    "# predictions = model.predict(images_sub)\n",
    "# predicted_labels = np.argmax(predictions, axis=1)\n",
    "\n",
    "# submission = pd.DataFrame({'Id': range(len(predicted_labels)), 'Category': predicted_labels})\n",
    "# submission.to_csv('submission_cnn_{0}.csv'.format('2'), index=False)"
   ]
  }
 ],
 "metadata": {
  "kernelspec": {
   "display_name": "Python 3",
   "language": "python",
   "name": "python3"
  },
  "language_info": {
   "codemirror_mode": {
    "name": "ipython",
    "version": 3
   },
   "file_extension": ".py",
   "mimetype": "text/x-python",
   "name": "python",
   "nbconvert_exporter": "python",
   "pygments_lexer": "ipython3",
   "version": "3.12.3"
  }
 },
 "nbformat": 4,
 "nbformat_minor": 2
}
